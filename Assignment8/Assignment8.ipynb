{
 "cells": [
  {
   "cell_type": "markdown",
   "metadata": {},
   "source": [
    "# Data Set Description"
   ]
  },
  {
   "cell_type": "markdown",
   "metadata": {},
   "source": [
    "### In this assignment, I use the Titanic data set, the training set and test set is split. However, since there is no target value in test set, we will using 2/3 for train and 1/3 for test. This data set is with ten features which are lists as below and the trget is survival,\n",
    "\n",
    "Variable\tDefinition\tKey\n",
    "\n",
    "survival\tSurvival\t0 = No, 1 = Yes\n",
    "\n",
    "pclass\tTicket class\t1 = 1st, 2 = 2nd, 3 = 3rd\n",
    "\n",
    "sex\tSex\t\n",
    "\n",
    "Age\tAge in years\t\n",
    "\n",
    "sibsp\t# of siblings / spouses aboard the Titanic\t\n",
    "\n",
    "parch\t# of parents / children aboard the Titanic\t\n",
    "\n",
    "ticket\tTicket number\t\n",
    "\n",
    "fare\tPassenger fare\t\n",
    "\n",
    "cabin\tCabin number\t\n",
    "\n",
    "embarked\tPort of Embarkation\tC = Cherbourg, Q = Queenstown, S = Southampton\n",
    "\n",
    "### we will discard the id features since each object has a unique value"
   ]
  },
  {
   "cell_type": "markdown",
   "metadata": {},
   "source": [
    "# Load the Data Set"
   ]
  },
  {
   "cell_type": "code",
   "execution_count": 375,
   "metadata": {
    "collapsed": false
   },
   "outputs": [
    {
     "name": "stdout",
     "output_type": "stream",
     "text": [
      "     PassengerId  Survived  Pclass     Sex   Age  SibSp  Parch      Fare  \\\n",
      "0              1         0       3    male  22.0      1      0    7.2500   \n",
      "1              2         1       1  female  38.0      1      0   71.2833   \n",
      "2              3         1       3  female  26.0      0      0    7.9250   \n",
      "3              4         1       1  female  35.0      1      0   53.1000   \n",
      "4              5         0       3    male  35.0      0      0    8.0500   \n",
      "5              6         0       3    male   NaN      0      0    8.4583   \n",
      "6              7         0       1    male  54.0      0      0   51.8625   \n",
      "7              8         0       3    male   2.0      3      1   21.0750   \n",
      "8              9         1       3  female  27.0      0      2   11.1333   \n",
      "9             10         1       2  female  14.0      1      0   30.0708   \n",
      "10            11         1       3  female   4.0      1      1   16.7000   \n",
      "11            12         1       1  female  58.0      0      0   26.5500   \n",
      "12            13         0       3    male  20.0      0      0    8.0500   \n",
      "13            14         0       3    male  39.0      1      5   31.2750   \n",
      "14            15         0       3  female  14.0      0      0    7.8542   \n",
      "15            16         1       2  female  55.0      0      0   16.0000   \n",
      "16            17         0       3    male   2.0      4      1   29.1250   \n",
      "17            18         1       2    male   NaN      0      0   13.0000   \n",
      "18            19         0       3  female  31.0      1      0   18.0000   \n",
      "19            20         1       3  female   NaN      0      0    7.2250   \n",
      "20            21         0       2    male  35.0      0      0   26.0000   \n",
      "21            22         1       2    male  34.0      0      0   13.0000   \n",
      "22            23         1       3  female  15.0      0      0    8.0292   \n",
      "23            24         1       1    male  28.0      0      0   35.5000   \n",
      "24            25         0       3  female   8.0      3      1   21.0750   \n",
      "25            26         1       3  female  38.0      1      5   31.3875   \n",
      "26            27         0       3    male   NaN      0      0    7.2250   \n",
      "27            28         0       1    male  19.0      3      2  263.0000   \n",
      "28            29         1       3  female   NaN      0      0    7.8792   \n",
      "29            30         0       3    male   NaN      0      0    7.8958   \n",
      "..           ...       ...     ...     ...   ...    ...    ...       ...   \n",
      "859          862         0       2    male  21.0      1      0   11.5000   \n",
      "860          863         1       1  female  48.0      0      0   25.9292   \n",
      "861          864         0       3  female   NaN      8      2   69.5500   \n",
      "862          865         0       2    male  24.0      0      0   13.0000   \n",
      "863          866         1       2  female  42.0      0      0   13.0000   \n",
      "864          867         1       2  female  27.0      1      0   13.8583   \n",
      "865          868         0       1    male  31.0      0      0   50.4958   \n",
      "866          869         0       3    male   NaN      0      0    9.5000   \n",
      "867          870         1       3    male   4.0      1      1   11.1333   \n",
      "868          871         0       3    male  26.0      0      0    7.8958   \n",
      "869          872         1       1  female  47.0      1      1   52.5542   \n",
      "870          873         0       1    male  33.0      0      0    5.0000   \n",
      "871          874         0       3    male  47.0      0      0    9.0000   \n",
      "872          875         1       2  female  28.0      1      0   24.0000   \n",
      "873          876         1       3  female  15.0      0      0    7.2250   \n",
      "874          877         0       3    male  20.0      0      0    9.8458   \n",
      "875          878         0       3    male  19.0      0      0    7.8958   \n",
      "876          879         0       3    male   NaN      0      0    7.8958   \n",
      "877          880         1       1  female  56.0      0      1   83.1583   \n",
      "878          881         1       2  female  25.0      0      1   26.0000   \n",
      "879          882         0       3    male  33.0      0      0    7.8958   \n",
      "880          883         0       3  female  22.0      0      0   10.5167   \n",
      "881          884         0       2    male  28.0      0      0   10.5000   \n",
      "882          885         0       3    male  25.0      0      0    7.0500   \n",
      "883          886         0       3  female  39.0      0      5   29.1250   \n",
      "884          887         0       2    male  27.0      0      0   13.0000   \n",
      "885          888         1       1  female  19.0      0      0   30.0000   \n",
      "886          889         0       3  female   NaN      1      2   23.4500   \n",
      "887          890         1       1    male  26.0      0      0   30.0000   \n",
      "888          891         0       3    male  32.0      0      0    7.7500   \n",
      "\n",
      "    Embarked  \n",
      "0          S  \n",
      "1          C  \n",
      "2          S  \n",
      "3          S  \n",
      "4          S  \n",
      "5          Q  \n",
      "6          S  \n",
      "7          S  \n",
      "8          S  \n",
      "9          C  \n",
      "10         S  \n",
      "11         S  \n",
      "12         S  \n",
      "13         S  \n",
      "14         S  \n",
      "15         S  \n",
      "16         Q  \n",
      "17         S  \n",
      "18         S  \n",
      "19         C  \n",
      "20         S  \n",
      "21         S  \n",
      "22         Q  \n",
      "23         S  \n",
      "24         S  \n",
      "25         S  \n",
      "26         C  \n",
      "27         S  \n",
      "28         Q  \n",
      "29         S  \n",
      "..       ...  \n",
      "859        S  \n",
      "860        S  \n",
      "861        S  \n",
      "862        S  \n",
      "863        S  \n",
      "864        C  \n",
      "865        S  \n",
      "866        S  \n",
      "867        S  \n",
      "868        S  \n",
      "869        S  \n",
      "870        S  \n",
      "871        S  \n",
      "872        C  \n",
      "873        C  \n",
      "874        S  \n",
      "875        S  \n",
      "876        S  \n",
      "877        C  \n",
      "878        S  \n",
      "879        S  \n",
      "880        S  \n",
      "881        S  \n",
      "882        S  \n",
      "883        Q  \n",
      "884        S  \n",
      "885        S  \n",
      "886        S  \n",
      "887        C  \n",
      "888        Q  \n",
      "\n",
      "[889 rows x 9 columns]\n"
     ]
    }
   ],
   "source": [
    "import pandas as pd\n",
    "import numpy as np\n",
    "k = pd.read_csv('data.csv')\n",
    "Target = k.Survived;\n",
    "Tar = np.array(Target)\n",
    "print(k)"
   ]
  },
  {
   "cell_type": "markdown",
   "metadata": {},
   "source": [
    "# Binarize the Data"
   ]
  },
  {
   "cell_type": "markdown",
   "metadata": {},
   "source": [
    "## Target - Survived"
   ]
  },
  {
   "cell_type": "code",
   "execution_count": 376,
   "metadata": {
    "collapsed": true
   },
   "outputs": [],
   "source": [
    "from sklearn import preprocessing\n",
    "from sklearn.preprocessing import OneHotEncoder\n",
    "lb = preprocessing.LabelBinarizer()\n",
    "Survived = lb.fit_transform(Target)\n",
    "k.Survived = Survived"
   ]
  },
  {
   "cell_type": "markdown",
   "metadata": {},
   "source": [
    "### Sex"
   ]
  },
  {
   "cell_type": "code",
   "execution_count": 377,
   "metadata": {
    "collapsed": false
   },
   "outputs": [
    {
     "name": "stdout",
     "output_type": "stream",
     "text": [
      "[[ 0.  1.]\n",
      " [ 1.  0.]\n",
      " [ 1.  0.]\n",
      " ..., \n",
      " [ 1.  0.]\n",
      " [ 0.  1.]\n",
      " [ 0.  1.]]\n"
     ]
    }
   ],
   "source": [
    "Sex = lb.fit_transform(k.Sex)\n",
    "k.Sex = Sex\n",
    "enc = OneHotEncoder()\n",
    "Sex = enc.fit_transform(Sex).toarray()\n",
    "print(Sex)"
   ]
  },
  {
   "cell_type": "markdown",
   "metadata": {},
   "source": [
    "## Embarked"
   ]
  },
  {
   "cell_type": "code",
   "execution_count": 378,
   "metadata": {
    "collapsed": false
   },
   "outputs": [
    {
     "name": "stdout",
     "output_type": "stream",
     "text": [
      "[[ 0.  0.  1.]\n",
      " [ 1.  0.  0.]\n",
      " [ 0.  0.  1.]\n",
      " ..., \n",
      " [ 0.  0.  1.]\n",
      " [ 1.  0.  0.]\n",
      " [ 0.  1.  0.]]\n"
     ]
    }
   ],
   "source": [
    "Emb = le.fit_transform(k.Embarked).reshape(*k.Embarked.shape,1)\n",
    "k.Embarked = Emb\n",
    "enc = OneHotEncoder()\n",
    "Embb = enc.fit_transform(Emb).toarray()\n",
    "print(Embb)"
   ]
  },
  {
   "cell_type": "markdown",
   "metadata": {},
   "source": [
    "## Age"
   ]
  },
  {
   "cell_type": "code",
   "execution_count": 379,
   "metadata": {
    "collapsed": false
   },
   "outputs": [
    {
     "name": "stdout",
     "output_type": "stream",
     "text": [
      "mean_age: 29.64209269662921\n",
      "[[ 1.  0.]\n",
      " [ 0.  1.]\n",
      " [ 1.  0.]\n",
      " ..., \n",
      " [ 1.  0.]\n",
      " [ 1.  0.]\n",
      " [ 0.  1.]]\n"
     ]
    }
   ],
   "source": [
    "mean_age = np.mean(k.Age)\n",
    "print('mean_age:',mean_age)\n",
    "Ageb = k.Age > mean_age\n",
    "lb = preprocessing.LabelBinarizer()\n",
    "Age = lb.fit_transform(Ageb)\n",
    "k.Age = Age\n",
    "enc = OneHotEncoder()\n",
    "Ageb = enc.fit_transform(Age).toarray()\n",
    "print(Ageb)"
   ]
  },
  {
   "cell_type": "markdown",
   "metadata": {},
   "source": [
    "## Fare"
   ]
  },
  {
   "cell_type": "code",
   "execution_count": 380,
   "metadata": {
    "collapsed": false
   },
   "outputs": [
    {
     "name": "stdout",
     "output_type": "stream",
     "text": [
      "mean_fare: 32.09668087739029\n",
      "[[ 1.  0.]\n",
      " [ 0.  1.]\n",
      " [ 1.  0.]\n",
      " ..., \n",
      " [ 1.  0.]\n",
      " [ 1.  0.]\n",
      " [ 1.  0.]]\n"
     ]
    }
   ],
   "source": [
    "mean_fare = np.mean(k.Fare)\n",
    "print('mean_fare:',mean_fare)\n",
    "Fare = k.Fare > mean_fare\n",
    "lb = preprocessing.LabelBinarizer()\n",
    "Fare = lb.fit_transform(Fare)\n",
    "k.Fare = Fare \n",
    "enc = OneHotEncoder()\n",
    "Fare = enc.fit_transform(Fare).toarray()\n",
    "print(Fare)"
   ]
  },
  {
   "cell_type": "markdown",
   "metadata": {},
   "source": [
    "### Pclass"
   ]
  },
  {
   "cell_type": "code",
   "execution_count": 381,
   "metadata": {
    "collapsed": false
   },
   "outputs": [
    {
     "name": "stdout",
     "output_type": "stream",
     "text": [
      "[[ 0.  0.  1.]\n",
      " [ 1.  0.  0.]\n",
      " [ 0.  0.  1.]\n",
      " ..., \n",
      " [ 0.  0.  1.]\n",
      " [ 1.  0.  0.]\n",
      " [ 0.  0.  1.]]\n"
     ]
    }
   ],
   "source": [
    "from sklearn.preprocessing import OneHotEncoder\n",
    "enc = OneHotEncoder()\n",
    "Pclass = np.array(k.Pclass).reshape(*k.Pclass.shape,1)\n",
    "k.Pclass = Pclass\n",
    "Pclass = enc.fit_transform(Pclass).toarray()\n",
    "print(Pclass)\n",
    "#Sex  Age  SibSp  Parch  Fare  Embarked"
   ]
  },
  {
   "cell_type": "markdown",
   "metadata": {},
   "source": [
    "### SibSp"
   ]
  },
  {
   "cell_type": "code",
   "execution_count": 382,
   "metadata": {
    "collapsed": false
   },
   "outputs": [
    {
     "name": "stdout",
     "output_type": "stream",
     "text": [
      "[[ 0.  1.  0. ...,  0.  0.  0.]\n",
      " [ 0.  1.  0. ...,  0.  0.  0.]\n",
      " [ 1.  0.  0. ...,  0.  0.  0.]\n",
      " ..., \n",
      " [ 0.  1.  0. ...,  0.  0.  0.]\n",
      " [ 1.  0.  0. ...,  0.  0.  0.]\n",
      " [ 1.  0.  0. ...,  0.  0.  0.]]\n"
     ]
    },
    {
     "data": {
      "text/plain": [
       "7"
      ]
     },
     "execution_count": 382,
     "metadata": {},
     "output_type": "execute_result"
    }
   ],
   "source": [
    "SibSp = np.array(k.SibSp).reshape(*k.SibSp.shape,1)\n",
    "k.SibSp = SibSp\n",
    "SibSp = enc.fit_transform(SibSp).toarray()\n",
    "print(SibSp)\n",
    "len(SibSp[0,:])"
   ]
  },
  {
   "cell_type": "markdown",
   "metadata": {},
   "source": [
    "### Parch"
   ]
  },
  {
   "cell_type": "code",
   "execution_count": 383,
   "metadata": {
    "collapsed": false
   },
   "outputs": [
    {
     "name": "stdout",
     "output_type": "stream",
     "text": [
      "[[ 1.  0.  0. ...,  0.  0.  0.]\n",
      " [ 1.  0.  0. ...,  0.  0.  0.]\n",
      " [ 1.  0.  0. ...,  0.  0.  0.]\n",
      " ..., \n",
      " [ 0.  0.  1. ...,  0.  0.  0.]\n",
      " [ 1.  0.  0. ...,  0.  0.  0.]\n",
      " [ 1.  0.  0. ...,  0.  0.  0.]]\n"
     ]
    },
    {
     "data": {
      "text/plain": [
       "7"
      ]
     },
     "execution_count": 383,
     "metadata": {},
     "output_type": "execute_result"
    }
   ],
   "source": [
    "Parch = np.array(k.Parch).reshape(*k.Parch.shape,1)\n",
    "k.Parch = Parch\n",
    "Parch = enc.fit_transform(Parch).toarray()\n",
    "print(Parch)\n",
    "len(Parch[0,:])"
   ]
  },
  {
   "cell_type": "code",
   "execution_count": 384,
   "metadata": {
    "collapsed": false
   },
   "outputs": [
    {
     "name": "stdout",
     "output_type": "stream",
     "text": [
      "Pclass:{1,2,3}  Sex:{Female,Male}  Age{<=29.64, >29.64}  SibSp:{0,1,2,3,4,5,8}  Parch:{0,1,2,3,4,5,6}  Fare:{<=32.10,>32.10}  Embarked:{C,Q,S}\n",
      "3bits+2bits+2bits+7bits+7bits+2bits+3bits\n"
     ]
    }
   ],
   "source": [
    "print('Pclass:{1,2,3}  Sex:{Female,Male}  Age{<=29.64, >29.64}  SibSp:{0,1,2,3,4,5,8}  Parch:{0,1,2,3,4,5,6}  Fare:{<=32.10,>32.10}  Embarked:{C,Q,S}')\n",
    "print('3bits+2bits+2bits+7bits+7bits+2bits+3bits')\n",
    "#X =Pclass\n",
    "#X.Parch = Parch\n",
    "#X.SibSp = SibSp\n",
    "#X.Age = Ageb\n",
    "#X.Sex = Sex\n",
    "#X.Embarked = Embb"
   ]
  },
  {
   "cell_type": "code",
   "execution_count": 385,
   "metadata": {
    "collapsed": false
   },
   "outputs": [],
   "source": [
    "Data = k.loc[:,'Pclass':'Embarked']\n",
    "X = np.array(Data)\n",
    "X = enc.fit_transform(X).toarray()\n",
    "Y = np.array(k.Survived)"
   ]
  },
  {
   "cell_type": "code",
   "execution_count": 386,
   "metadata": {
    "collapsed": false
   },
   "outputs": [],
   "source": [
    "size_t = int(2*len(X) * 1/3)\n",
    "x_train = X[0:size_t]\n",
    "y_train = Y[0:size_t]\n",
    "x_test = X[size_t+1:]\n",
    "y_test = Y[size_t+1:]"
   ]
  },
  {
   "cell_type": "markdown",
   "metadata": {},
   "source": [
    "# Train a BernouilliNB classifier "
   ]
  },
  {
   "cell_type": "code",
   "execution_count": 387,
   "metadata": {
    "collapsed": false
   },
   "outputs": [
    {
     "name": "stdout",
     "output_type": "stream",
     "text": [
      "feature_neg: [-1.7945334  -1.76174357 -0.40823903 -1.86352627 -0.16856618 -0.42081782\n",
      " -1.06859639 -0.33980187 -1.71449069 -3.3239286  -3.58629287 -3.49098269\n",
      " -4.27944005 -4.27944005 -0.21555469 -2.2512918  -2.59304109 -5.19573078\n",
      " -4.27944005 -5.19573078 -5.88887796 -0.17845094 -1.81134051 -1.86352627\n",
      " -2.52158213 -0.26486045]\n",
      "feature_pos: [-1.01693426 -1.31645079 -0.9822487  -0.34759773 -1.22547901 -0.48977221\n",
      " -0.94872601 -0.48977221 -1.11578009 -3.26236094 -4.07329115 -4.07329115\n",
      " -5.45958551 -5.45958551 -0.36583531 -1.82199935 -1.96307795 -4.76643833\n",
      " -5.45958551 -4.76643833 -5.45958551 -0.40333971 -1.10287669 -1.34871165\n",
      " -2.20148898 -0.45563921]\n"
     ]
    }
   ],
   "source": [
    "from sklearn.naive_bayes import BernoulliNB\n",
    "clf = BernoulliNB()\n",
    "clf.fit(x_train, y_train)\n",
    "BernoulliNB(alpha=1.0, class_prior=None, fit_prior=True)\n",
    "pr = clf.predict_proba(x_test)\n",
    "feature_neg = clf.feature_log_prob_[0]\n",
    "print('feature_neg:',feature_neg)\n",
    "feature_pos = clf.feature_log_prob_[1]\n",
    "print('feature_pos:',feature_pos)"
   ]
  },
  {
   "cell_type": "code",
   "execution_count": 388,
   "metadata": {
    "collapsed": false
   },
   "outputs": [],
   "source": [
    "pr = pr.reshape(*pr.shape,1)\n",
    "pr_neg = pr[:,0]\n",
    "pr_pos = pr[:,1]"
   ]
  },
  {
   "cell_type": "markdown",
   "metadata": {},
   "source": [
    "###  In the  following five cases, print the following results: \n",
    "#### a) the total positive log-evidence,  b) the total negative log-evidence, c) probability distribution, d) top 3 features values that contribute most to the positive evidence, e) top 3 feature values that contribute the most to the negative evidence"
   ]
  },
  {
   "cell_type": "markdown",
   "metadata": {},
   "source": [
    "## 1.The most positive object with respect to the probabilities."
   ]
  },
  {
   "cell_type": "code",
   "execution_count": 389,
   "metadata": {
    "collapsed": false
   },
   "outputs": [
    {
     "name": "stdout",
     "output_type": "stream",
     "text": [
      "Pclass:{1,2,3}  Sex:{Female,Male}  Age{<=29.64, >29.64}  SibSp:{0,1,2,3,4,5,8}  Parch:{0,1,2,3,4,5,6}  Fare:{<=32.10,>32.10}  Embarked:{C,Q,S}\n",
      "3bits+2bits+2bits+7bits+7bits+2bits+3bits\n"
     ]
    }
   ],
   "source": [
    "print('Pclass:{1,2,3}  Sex:{Female,Male}  Age{<=29.64, >29.64}  SibSp:{0,1,2,3,4,5,8}  Parch:{0,1,2,3,4,5,6}  Fare:{<=32.10,>32.10}  Embarked:{C,Q,S}')\n",
    "print('3bits+2bits+2bits+7bits+7bits+2bits+3bits')"
   ]
  },
  {
   "cell_type": "code",
   "execution_count": 390,
   "metadata": {
    "collapsed": false
   },
   "outputs": [
    {
     "name": "stdout",
     "output_type": "stream",
     "text": [
      "index of most postive object w.r.t probabilities: 240\n",
      "object: [ 1.  0.  0.  1.  0.  0.  1.  0.  1.  0.  0.  0.  0.  0.  0.  1.  0.  0.\n",
      "  0.  0.  0.  0.  1.  1.  0.  0.]\n",
      "the total positive log-evidence: 4.6646795503\n",
      "[-0.77759914 -0.44529279  0.57400966 -1.51592854  1.05691283  0.0689544\n",
      " -0.11987039  0.14997034 -0.5987106  -0.06156766  0.48699829  0.58230847\n",
      "  1.18014547  1.18014547  0.15028062 -0.42929244 -0.62996314 -0.42929244\n",
      "  1.18014547 -0.42929244 -0.42929244  0.22488877 -0.70846383 -0.51481462\n",
      " -0.32009315  0.19077876]\n",
      "[-0.77759914 -0.          0.         -1.51592854  0.          0.\n",
      " -0.11987039  0.         -0.5987106  -0.          0.          0.          0.\n",
      "  0.          0.         -0.42929244 -0.         -0.          0.         -0.\n",
      " -0.          0.         -0.70846383 -0.51481462 -0.          0.        ]\n",
      "the total negtive log-evidence: 0.0\n",
      "probability distribution: [ 0.9997308] [ 0.0002692]\n"
     ]
    }
   ],
   "source": [
    "ratio = pr_neg/pr_pos\n",
    "ind1 =  np.argmax(pr_pos)\n",
    "print('index of most postive object w.r.t probabilities:',ind1)\n",
    "obj = x_test[ind1]\n",
    "print('object:',obj)\n",
    "pf = feature_pos - feature_neg\n",
    "P_f = np.multiply(pf,obj)\n",
    "pff = [i for i in P_f if i>0]\n",
    "print('the total positive log-evidence:',np.sum(pff))\n",
    "\n",
    "nf = feature_neg - feature_pos\n",
    "print(nf)\n",
    "N_f = np.multiply(nf,obj)\n",
    "print(N_f)\n",
    "nff = [i for i in N_f if i>0]\n",
    "print('the total negtive log-evidence:',np.sum(nff))\n",
    "print('probability distribution:',pr_pos[ind1],pr_neg[ind1])"
   ]
  },
  {
   "cell_type": "code",
   "execution_count": 391,
   "metadata": {
    "collapsed": false
   },
   "outputs": [
    {
     "name": "stdout",
     "output_type": "stream",
     "text": [
      "top postive features: 0.777599138457 1.51592854181 -0.0 0.598710596147 0.429292444189 -0.0 0.514814617627\n",
      "top 3 features: Pclass,Sex,Fares\n",
      "top negtive features: -0.0 -1.51592854181 0.0 0.0 0.0 0.0 -0.0\n",
      "top 3 negtive features:NaN\n"
     ]
    }
   ],
   "source": [
    "#print(P_f)\n",
    "print('top postive features:',np.max(P_f[0:2]),np.max(P_f[3:4]),np.max(P_f[5:6]),np.max(P_f[7:13]),np.max(P_f[14:20]),np.max(P_f[21:22]),np.max(P_f[23:25]))\n",
    "print('top 3 features: Pclass,Sex,Fares')\n",
    "#print(N_f)\n",
    "print('top negtive features:',np.max(N_f[0:2]),np.max(N_f[3:4]),np.max(N_f[5:6]),np.max(N_f[7:13]),np.max(N_f[14:20]),np.max(N_f[21:22]),np.max(N_f[23:25]))\n",
    "print('top 3 negtive features:NaN')"
   ]
  },
  {
   "cell_type": "markdown",
   "metadata": {},
   "source": [
    "## 2.The most negative object with respect to the probabilities."
   ]
  },
  {
   "cell_type": "code",
   "execution_count": 392,
   "metadata": {
    "collapsed": false
   },
   "outputs": [
    {
     "name": "stdout",
     "output_type": "stream",
     "text": [
      "index of most negtive object w.r.t probabilities: 7\n",
      "object: [ 0.  0.  1.  0.  1.  1.  0.  1.  0.  0.  0.  0.  0.  0.  1.  0.  0.  0.\n",
      "  0.  0.  0.  1.  0.  0.  0.  1.]\n",
      "the total positive log-evidence: 0.0\n",
      "the total negtive log-evidence: 2.41579537706\n",
      "probability distribution: [ 0.0063783] [ 0.9936217]\n"
     ]
    }
   ],
   "source": [
    "ind =  np.argmax(pr_neg)\n",
    "print('index of most negtive object w.r.t probabilities:',ind)\n",
    "obj = x_test[ind]\n",
    "print('object:',obj)\n",
    "pf = feature_pos - feature_neg\n",
    "P_f = np.multiply(pf,obj)\n",
    "pff = [i for i in P_f if i>0]\n",
    "print('the total positive log-evidence:',np.sum(pff))\n",
    "\n",
    "nf = feature_neg - feature_pos\n",
    "N_f = np.multiply(nf,obj)\n",
    "nff = [i for i in N_f if i>0]\n",
    "print('the total negtive log-evidence:',np.sum(nff))\n",
    "print('probability distribution:',pr_pos[ind],pr_neg[ind])"
   ]
  },
  {
   "cell_type": "code",
   "execution_count": 393,
   "metadata": {
    "collapsed": false
   },
   "outputs": [
    {
     "name": "stdout",
     "output_type": "stream",
     "text": [
      "top postive features: 0.0 0.0 -0.0689543973704 0.0 0.0 -0.224888767838 0.0\n",
      "top 3 features: NaN\n",
      "top negtive features: -0.0 -0.0 0.0689543973704 0.14997034113 0.150280622176 0.224888767838 -0.0\n",
      "top 3 negtive features:SibSp,Parch,Fare\n"
     ]
    }
   ],
   "source": [
    "#print(P_f)\n",
    "print('top postive features:',np.max(P_f[0:2]),np.max(P_f[3:4]),np.max(P_f[5:6]),np.max(P_f[7:13]),np.max(P_f[14:20]),np.max(P_f[21:22]),np.max(P_f[23:25]))\n",
    "print('top 3 features: NaN')\n",
    "#print(N_f)\n",
    "print('top negtive features:',np.max(N_f[0:2]),np.max(N_f[3:4]),np.max(N_f[5:6]),np.max(N_f[7:13]),np.max(N_f[14:20]),np.max(N_f[21:22]),np.max(N_f[23:25]))\n",
    "print('top 3 negtive features:SibSp,Parch,Fare')"
   ]
  },
  {
   "cell_type": "markdown",
   "metadata": {},
   "source": [
    "## 3.The object that has the largest positive evidence"
   ]
  },
  {
   "cell_type": "code",
   "execution_count": 394,
   "metadata": {
    "collapsed": false
   },
   "outputs": [
    {
     "name": "stdout",
     "output_type": "stream",
     "text": [
      "Index of the object w.r.t the largest positive evidence: 240\n",
      "The value of Log-evidence: 4.6646795503\n",
      "The analysis of (a)-(e)is as above, we will skip the other part\n"
     ]
    }
   ],
   "source": [
    "pf = feature_pos - feature_neg\n",
    "P_fs = np.multiply(pf,x_test)\n",
    "lar_pos = []\n",
    "for i in P_fs:\n",
    "    pff = [j for j in i if j>0]\n",
    "    lar_pos.append(np.sum(pff))\n",
    "ind = np.argmax(lar_pos)\n",
    "print('Index of the object w.r.t the largest positive evidence:',ind)\n",
    "print('The value of Log-evidence:',lar_pos[ind])\n",
    "print('The analysis of (a)-(e)is as above, we will skip the other part')\n",
    "#print('the total positive log-evidence:',np.sum(pff))"
   ]
  },
  {
   "cell_type": "markdown",
   "metadata": {},
   "source": [
    "## 4.The object that has the largest (in magnitude) negative evidence"
   ]
  },
  {
   "cell_type": "code",
   "execution_count": 395,
   "metadata": {
    "collapsed": false
   },
   "outputs": [
    {
     "name": "stdout",
     "output_type": "stream",
     "text": [
      "Index of the object w.r.t the largest negtive evidence: 89\n",
      "The value of Log-evidence: 3.07080111417\n",
      "object: [ 0.  0.  1.  0.  1.  1.  0.  0.  0.  0.  0.  0.  1.  0.  0.  0.  1.  0.\n",
      "  0.  0.  0.  0.  1.  0.  0.  1.]\n",
      "the total positive log-evidence: 1.33842696662\n",
      "the total negtive log-evidence: 3.07080111417\n",
      "probability distribution: [ 0.06820731] [ 0.93179269]\n"
     ]
    }
   ],
   "source": [
    "nf = feature_neg - feature_pos\n",
    "N_fs = np.multiply(nf,x_test)\n",
    "lar_neg = []\n",
    "for i in N_fs:\n",
    "    nff = [j for j in i if j>0]\n",
    "    lar_neg.append(np.sum(nff))\n",
    "ind = np.argmax(lar_neg)\n",
    "print('Index of the object w.r.t the largest negtive evidence:',ind)\n",
    "print('The value of Log-evidence:',lar_neg[ind])\n",
    "obj = x_test[ind]\n",
    "print('object:',obj)\n",
    "pf = feature_pos - feature_neg\n",
    "P_f = np.multiply(pf,obj)\n",
    "pff = [i for i in P_f if i>0]\n",
    "print('the total positive log-evidence:',np.sum(pff))\n",
    "\n",
    "nf = feature_neg - feature_pos\n",
    "N_f = np.multiply(nf,obj)\n",
    "nff = [i for i in N_f if i>0]\n",
    "print('the total negtive log-evidence:',np.sum(nff))\n",
    "print('probability distribution:',pr_pos[ind],pr_neg[ind])"
   ]
  },
  {
   "cell_type": "code",
   "execution_count": 396,
   "metadata": {
    "collapsed": false
   },
   "outputs": [
    {
     "name": "stdout",
     "output_type": "stream",
     "text": [
      "top postive features: 0.0 0.0 -0.0689543973704 -0.0 0.629963139651 -0.0 0.0\n",
      "top 3 features: Parch and NaN\n",
      "top negtive features: -0.0 -0.0 0.0689543973704 1.18014546825 0.0 0.0 -0.0\n",
      "top 3 negtive features:Age, SibSb, and NaN\n"
     ]
    }
   ],
   "source": [
    "#print(P_f)\n",
    "print('top postive features:',np.max(P_f[0:2]),np.max(P_f[3:4]),np.max(P_f[5:6]),np.max(P_f[7:13]),np.max(P_f[14:20]),np.max(P_f[21:22]),np.max(P_f[23:25]))\n",
    "print('top 3 features: Parch and NaN')\n",
    "#print(N_f)\n",
    "print('top negtive features:',np.max(N_f[0:2]),np.max(N_f[3:4]),np.max(N_f[5:6]),np.max(N_f[7:13]),np.max(N_f[14:20]),np.max(N_f[21:22]),np.max(N_f[23:25]))\n",
    "print('top 3 negtive features:Age, SibSb, and NaN')"
   ]
  },
  {
   "cell_type": "markdown",
   "metadata": {},
   "source": [
    "## 5.The most uncertain object (the probabilities are closest to 0.5) "
   ]
  },
  {
   "cell_type": "code",
   "execution_count": 397,
   "metadata": {
    "collapsed": false
   },
   "outputs": [
    {
     "name": "stdout",
     "output_type": "stream",
     "text": [
      "index of most unvertain object w.r.t probabilities: 66\n",
      "object: [ 1.  0.  0.  0.  1.  0.  1.  0.  0.  1.  0.  0.  0.  0.  1.  0.  0.  0.\n",
      "  0.  0.  0.  0.  1.  0.  0.  1.]\n",
      "the total positive log-evidence: 1.66750101459\n",
      "the total negtive log-evidence: 1.39797220605\n",
      "probability distribution: [ 0.48707783] [ 0.51292217]\n"
     ]
    }
   ],
   "source": [
    "ind =  np.argmin(np.abs(pr_pos-0.5))\n",
    "print('index of most unvertain object w.r.t probabilities:',ind)\n",
    "obj = x_test[ind]\n",
    "print('object:',obj)\n",
    "pf = feature_pos - feature_neg\n",
    "P_f = np.multiply(pf,obj)\n",
    "pff = [i for i in P_f if i>0]\n",
    "print('the total positive log-evidence:',np.sum(pff))\n",
    "\n",
    "nf = feature_neg - feature_pos\n",
    "N_f = np.multiply(nf,obj)\n",
    "nff = [i for i in N_f if i>0]\n",
    "print('the total negtive log-evidence:',np.sum(nff))\n",
    "print('probability distribution:',pr_pos[ind],pr_neg[ind])"
   ]
  },
  {
   "cell_type": "code",
   "execution_count": 398,
   "metadata": {
    "collapsed": false
   },
   "outputs": [
    {
     "name": "stdout",
     "output_type": "stream",
     "text": [
      "top postive features: 0.777599138457 0.0 -0.0 0.0615676640634 0.0 -0.0 0.0\n",
      "top 3 features: Pclass, SibSp,NaN\n",
      "top negtive features: -0.0 -0.0 0.0 0.0 0.150280622176 0.0 -0.0\n",
      "top 3 negtive features:Parch, NaN\n"
     ]
    }
   ],
   "source": [
    "#print(P_f)\n",
    "print('top postive features:',np.max(P_f[0:2]),np.max(P_f[3:4]),np.max(P_f[5:6]),np.max(P_f[7:13]),np.max(P_f[14:20]),np.max(P_f[21:22]),np.max(P_f[23:25]))\n",
    "print('top 3 features: Pclass, SibSp,NaN')\n",
    "#print(N_f)\n",
    "print('top negtive features:',np.max(N_f[0:2]),np.max(N_f[3:4]),np.max(N_f[5:6]),np.max(N_f[7:13]),np.max(N_f[14:20]),np.max(N_f[21:22]),np.max(N_f[23:25]))\n",
    "print('top 3 negtive features:Parch, NaN')"
   ]
  }
 ],
 "metadata": {
  "anaconda-cloud": {},
  "kernelspec": {
   "display_name": "Python [Root]",
   "language": "python",
   "name": "Python [Root]"
  },
  "language_info": {
   "codemirror_mode": {
    "name": "ipython",
    "version": 3
   },
   "file_extension": ".py",
   "mimetype": "text/x-python",
   "name": "python",
   "nbconvert_exporter": "python",
   "pygments_lexer": "ipython3",
   "version": "3.5.2"
  }
 },
 "nbformat": 4,
 "nbformat_minor": 0
}
