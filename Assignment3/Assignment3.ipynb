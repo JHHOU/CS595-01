{
 "cells": [
  {
   "cell_type": "markdown",
   "metadata": {},
   "source": [
    "# Data Set Description"
   ]
  },
  {
   "cell_type": "markdown",
   "metadata": {},
   "source": [
    "### In this assignment, I use the Titanic data set, the training set and test set is split. However, since there is no target value in test set, we will using 2/3 for train and 1/3 for test. This data set is with ten features which are lists as below and the trget is survival,\n",
    "\n",
    "Variable\tDefinition\tKey\n",
    "\n",
    "survival\tSurvival\t0 = No, 1 = Yes\n",
    "\n",
    "pclass\tTicket class\t1 = 1st, 2 = 2nd, 3 = 3rd\n",
    "\n",
    "sex\tSex\t\n",
    "\n",
    "Age\tAge in years\t\n",
    "\n",
    "sibsp\t# of siblings / spouses aboard the Titanic\t\n",
    "\n",
    "parch\t# of parents / children aboard the Titanic\t\n",
    "\n",
    "ticket\tTicket number\t\n",
    "\n",
    "fare\tPassenger fare\t\n",
    "\n",
    "cabin\tCabin number\t\n",
    "\n",
    "embarked\tPort of Embarkation\tC = Cherbourg, Q = Queenstown, S = Southampton\n",
    "\n",
    "### we will discard the id features since each object has a unique value"
   ]
  },
  {
   "cell_type": "markdown",
   "metadata": {},
   "source": [
    "pclass: A proxy for socio-economic status (SES)\n",
    "\n",
    "1st = Upper\n",
    "2nd = Middle\n",
    "3rd = Lower\n",
    "\n",
    "age: Age is fractional if less than 1. If the age is estimated, is it in the form of xx.5\n",
    "\n",
    "sibsp: The dataset defines family relations in this way...\n",
    "Sibling = brother, sister, stepbrother, stepsister\n",
    "Spouse = husband, wife (mistresses and fiancés were ignored)\n",
    "\n",
    "parch: The dataset defines family relations in this way...\n",
    "Parent = mother, father\n",
    "Child = daughter, son, stepdaughter, stepson\n",
    "Some children travelled only with a nanny, therefore parch=0 for them.\n",
    "\n",
    "Fare\n",
    "\n",
    "Embarked"
   ]
  },
  {
   "cell_type": "markdown",
   "metadata": {},
   "source": [
    "# Load the Data "
   ]
  },
  {
   "cell_type": "code",
   "execution_count": 59,
   "metadata": {
    "collapsed": true
   },
   "outputs": [],
   "source": [
    "import pandas as pd\n",
    "import numpy as np\n",
    "k = pd.read_csv('train.csv')\n",
    "Target = k.Survived;\n",
    "Tar = np.array(Target)"
   ]
  },
  {
   "cell_type": "code",
   "execution_count": 60,
   "metadata": {
    "collapsed": false
   },
   "outputs": [
    {
     "name": "stderr",
     "output_type": "stream",
     "text": [
      "C:\\Users\\jhhou\\Anaconda3\\lib\\site-packages\\ipykernel\\__main__.py:3: SettingWithCopyWarning: \n",
      "A value is trying to be set on a copy of a slice from a DataFrame\n",
      "\n",
      "See the caveats in the documentation: http://pandas.pydata.org/pandas-docs/stable/indexing.html#indexing-view-versus-copy\n",
      "  app.launch_new_instance()\n",
      "C:\\Users\\jhhou\\Anaconda3\\lib\\site-packages\\ipykernel\\__main__.py:9: SettingWithCopyWarning: \n",
      "A value is trying to be set on a copy of a slice from a DataFrame\n",
      "\n",
      "See the caveats in the documentation: http://pandas.pydata.org/pandas-docs/stable/indexing.html#indexing-view-versus-copy\n",
      "C:\\Users\\jhhou\\Anaconda3\\lib\\site-packages\\ipykernel\\__main__.py:5: SettingWithCopyWarning: \n",
      "A value is trying to be set on a copy of a slice from a DataFrame\n",
      "\n",
      "See the caveats in the documentation: http://pandas.pydata.org/pandas-docs/stable/indexing.html#indexing-view-versus-copy\n",
      "C:\\Users\\jhhou\\Anaconda3\\lib\\site-packages\\ipykernel\\__main__.py:11: SettingWithCopyWarning: \n",
      "A value is trying to be set on a copy of a slice from a DataFrame\n",
      "\n",
      "See the caveats in the documentation: http://pandas.pydata.org/pandas-docs/stable/indexing.html#indexing-view-versus-copy\n",
      "C:\\Users\\jhhou\\Anaconda3\\lib\\site-packages\\ipykernel\\__main__.py:7: SettingWithCopyWarning: \n",
      "A value is trying to be set on a copy of a slice from a DataFrame\n",
      "\n",
      "See the caveats in the documentation: http://pandas.pydata.org/pandas-docs/stable/indexing.html#indexing-view-versus-copy\n"
     ]
    }
   ],
   "source": [
    "for i in range(0, len(k)):\n",
    "    if k.Embarked[i] == 'S':\n",
    "        k.Embarked[i] = 0\n",
    "    elif k.Embarked[i] == 'C':\n",
    "        k.Embarked[i] = 1\n",
    "    else: \n",
    "        k.Embarked[i] = 2\n",
    "    if k.Sex[i] == 'male':\n",
    "        k.Sex[i] = 0\n",
    "    else: \n",
    "        k.Sex[i] = 1\n"
   ]
  },
  {
   "cell_type": "code",
   "execution_count": 105,
   "metadata": {
    "collapsed": false
   },
   "outputs": [
    {
     "name": "stderr",
     "output_type": "stream",
     "text": [
      "C:\\Users\\jhhou\\Anaconda3\\lib\\site-packages\\ipykernel\\__main__.py:5: VisibleDeprecationWarning: using a non-integer number instead of an integer will result in an error in the future\n",
      "C:\\Users\\jhhou\\Anaconda3\\lib\\site-packages\\ipykernel\\__main__.py:6: VisibleDeprecationWarning: using a non-integer number instead of an integer will result in an error in the future\n",
      "C:\\Users\\jhhou\\Anaconda3\\lib\\site-packages\\ipykernel\\__main__.py:7: VisibleDeprecationWarning: using a non-integer number instead of an integer will result in an error in the future\n",
      "C:\\Users\\jhhou\\Anaconda3\\lib\\site-packages\\ipykernel\\__main__.py:8: VisibleDeprecationWarning: using a non-integer number instead of an integer will result in an error in the future\n"
     ]
    }
   ],
   "source": [
    "Knew = k.dropna()\n",
    "T = Knew.loc[:,'Pclass':'Embarked']\n",
    "T = np.array(T) \n",
    "size_t = len(T) * 1/3\n",
    "x_train = T[0:size_t*2]\n",
    "y_train = Tar[0:size_t*2]\n",
    "x_test = T[size_t*2+1:len(k)]\n",
    "y_test = Tar[size_t*2+1:len(k)]"
   ]
  },
  {
   "cell_type": "code",
   "execution_count": null,
   "metadata": {
    "collapsed": true
   },
   "outputs": [],
   "source": [
    "tree.export_graphviz(clf,out_file='tree.dot')  "
   ]
  },
  {
   "cell_type": "markdown",
   "metadata": {},
   "source": [
    "# Decision Tree"
   ]
  },
  {
   "cell_type": "markdown",
   "metadata": {},
   "source": [
    "depth = 1"
   ]
  },
  {
   "cell_type": "code",
   "execution_count": 114,
   "metadata": {
    "collapsed": false
   },
   "outputs": [
    {
     "name": "stdout",
     "output_type": "stream",
     "text": [
      "accuracy_of_training_set: 0.626050420168\n",
      "accuracy_of_test_set: 0.607594936709\n"
     ]
    },
    {
     "data": {
      "image/svg+xml": [
       "<?xml version=\"1.0\" encoding=\"UTF-8\" standalone=\"no\"?>\r\n",
       "<!DOCTYPE svg PUBLIC \"-//W3C//DTD SVG 1.1//EN\"\r\n",
       " \"http://www.w3.org/Graphics/SVG/1.1/DTD/svg11.dtd\">\r\n",
       "<!-- Generated by graphviz version 2.38.0 (20140413.2041)\r\n",
       " -->\r\n",
       "<!-- Title: Tree Pages: 1 -->\r\n",
       "<svg width=\"248pt\" height=\"195pt\"\r\n",
       " viewBox=\"0.00 0.00 248.00 195.00\" xmlns=\"http://www.w3.org/2000/svg\" xmlns:xlink=\"http://www.w3.org/1999/xlink\">\r\n",
       "<g id=\"graph0\" class=\"graph\" transform=\"scale(1 1) rotate(0) translate(4 191)\">\r\n",
       "<title>Tree</title>\r\n",
       "<polygon fill=\"white\" stroke=\"none\" points=\"-4,4 -4,-191 244,-191 244,4 -4,4\"/>\r\n",
       "<!-- 0 -->\r\n",
       "<g id=\"node1\" class=\"node\"><title>0</title>\r\n",
       "<polygon fill=\"none\" stroke=\"black\" points=\"182,-187 64,-187 64,-104 182,-104 182,-187\"/>\r\n",
       "<text text-anchor=\"middle\" x=\"123\" y=\"-171.8\" font-family=\"Times New Roman,serif\" font-size=\"14.00\">Fare &lt;= 92.2896</text>\r\n",
       "<text text-anchor=\"middle\" x=\"123\" y=\"-156.8\" font-family=\"Times New Roman,serif\" font-size=\"14.00\">gini = 0.477</text>\r\n",
       "<text text-anchor=\"middle\" x=\"123\" y=\"-141.8\" font-family=\"Times New Roman,serif\" font-size=\"14.00\">samples = 476</text>\r\n",
       "<text text-anchor=\"middle\" x=\"123\" y=\"-126.8\" font-family=\"Times New Roman,serif\" font-size=\"14.00\">value = [289, 187]</text>\r\n",
       "<text text-anchor=\"middle\" x=\"123\" y=\"-111.8\" font-family=\"Times New Roman,serif\" font-size=\"14.00\">class = No</text>\r\n",
       "</g>\r\n",
       "<!-- 1 -->\r\n",
       "<g id=\"node2\" class=\"node\"><title>1</title>\r\n",
       "<polygon fill=\"none\" stroke=\"black\" points=\"118,-68 0,-68 0,-0 118,-0 118,-68\"/>\r\n",
       "<text text-anchor=\"middle\" x=\"59\" y=\"-52.8\" font-family=\"Times New Roman,serif\" font-size=\"14.00\">gini = 0.4686</text>\r\n",
       "<text text-anchor=\"middle\" x=\"59\" y=\"-37.8\" font-family=\"Times New Roman,serif\" font-size=\"14.00\">samples = 443</text>\r\n",
       "<text text-anchor=\"middle\" x=\"59\" y=\"-22.8\" font-family=\"Times New Roman,serif\" font-size=\"14.00\">value = [277, 166]</text>\r\n",
       "<text text-anchor=\"middle\" x=\"59\" y=\"-7.8\" font-family=\"Times New Roman,serif\" font-size=\"14.00\">class = No</text>\r\n",
       "</g>\r\n",
       "<!-- 0&#45;&gt;1 -->\r\n",
       "<g id=\"edge1\" class=\"edge\"><title>0&#45;&gt;1</title>\r\n",
       "<path fill=\"none\" stroke=\"black\" d=\"M99.1688,-103.726C94.1044,-95.0615 88.7475,-85.8962 83.6532,-77.1802\"/>\r\n",
       "<polygon fill=\"black\" stroke=\"black\" points=\"86.5306,-75.167 78.4628,-68.2996 80.4872,-78.6992 86.5306,-75.167\"/>\r\n",
       "<text text-anchor=\"middle\" x=\"72.121\" y=\"-88.7819\" font-family=\"Times New Roman,serif\" font-size=\"14.00\">True</text>\r\n",
       "</g>\r\n",
       "<!-- 2 -->\r\n",
       "<g id=\"node3\" class=\"node\"><title>2</title>\r\n",
       "<polygon fill=\"none\" stroke=\"black\" points=\"240,-68 136,-68 136,-0 240,-0 240,-68\"/>\r\n",
       "<text text-anchor=\"middle\" x=\"188\" y=\"-52.8\" font-family=\"Times New Roman,serif\" font-size=\"14.00\">gini = 0.4628</text>\r\n",
       "<text text-anchor=\"middle\" x=\"188\" y=\"-37.8\" font-family=\"Times New Roman,serif\" font-size=\"14.00\">samples = 33</text>\r\n",
       "<text text-anchor=\"middle\" x=\"188\" y=\"-22.8\" font-family=\"Times New Roman,serif\" font-size=\"14.00\">value = [12, 21]</text>\r\n",
       "<text text-anchor=\"middle\" x=\"188\" y=\"-7.8\" font-family=\"Times New Roman,serif\" font-size=\"14.00\">class = Yes</text>\r\n",
       "</g>\r\n",
       "<!-- 0&#45;&gt;2 -->\r\n",
       "<g id=\"edge2\" class=\"edge\"><title>0&#45;&gt;2</title>\r\n",
       "<path fill=\"none\" stroke=\"black\" d=\"M147.204,-103.726C152.401,-94.9703 157.902,-85.7032 163.125,-76.9051\"/>\r\n",
       "<polygon fill=\"black\" stroke=\"black\" points=\"166.138,-78.6853 168.233,-68.2996 160.119,-75.1121 166.138,-78.6853\"/>\r\n",
       "<text text-anchor=\"middle\" x=\"174.411\" y=\"-88.8243\" font-family=\"Times New Roman,serif\" font-size=\"14.00\">False</text>\r\n",
       "</g>\r\n",
       "</g>\r\n",
       "</svg>\r\n"
      ],
      "text/plain": [
       "<graphviz.files.Source at 0x1ee370bd198>"
      ]
     },
     "execution_count": 114,
     "metadata": {},
     "output_type": "execute_result"
    }
   ],
   "source": [
    "from sklearn.tree import DecisionTreeClassifier\n",
    "import graphviz \n",
    "clf = DecisionTreeClassifier(max_depth = 1)\n",
    "clf.fit(x_train,y_train)\n",
    "print('accuracy_of_training_set:',clf.score(x_train, y_train))\n",
    "print('accuracy_of_test_set:',clf.score(x_test, y_test))\n",
    "dot_data = tree.export_graphviz(clf, out_file=None,feature_names = ['Pclass','Sex','Age','SibSp','Parch','Fare','Embarked'],class_names = ['No','Yes']) \n",
    "graph = graphviz.Source(dot_data) \n",
    "graph.render(\"depth=1\")\n",
    "graph"
   ]
  },
  {
   "cell_type": "markdown",
   "metadata": {},
   "source": [
    "depth = 2"
   ]
  },
  {
   "cell_type": "code",
   "execution_count": 115,
   "metadata": {
    "collapsed": false
   },
   "outputs": [
    {
     "name": "stdout",
     "output_type": "stream",
     "text": [
      "accuracy_of_training_set: 0.634453781513\n",
      "accuracy_of_test_set: 0.607594936709\n"
     ]
    },
    {
     "data": {
      "image/svg+xml": [
       "<?xml version=\"1.0\" encoding=\"UTF-8\" standalone=\"no\"?>\r\n",
       "<!DOCTYPE svg PUBLIC \"-//W3C//DTD SVG 1.1//EN\"\r\n",
       " \"http://www.w3.org/Graphics/SVG/1.1/DTD/svg11.dtd\">\r\n",
       "<!-- Generated by graphviz version 2.38.0 (20140413.2041)\r\n",
       " -->\r\n",
       "<!-- Title: Tree Pages: 1 -->\r\n",
       "<svg width=\"477pt\" height=\"314pt\"\r\n",
       " viewBox=\"0.00 0.00 477.00 314.00\" xmlns=\"http://www.w3.org/2000/svg\" xmlns:xlink=\"http://www.w3.org/1999/xlink\">\r\n",
       "<g id=\"graph0\" class=\"graph\" transform=\"scale(1 1) rotate(0) translate(4 310)\">\r\n",
       "<title>Tree</title>\r\n",
       "<polygon fill=\"white\" stroke=\"none\" points=\"-4,4 -4,-310 473,-310 473,4 -4,4\"/>\r\n",
       "<!-- 0 -->\r\n",
       "<g id=\"node1\" class=\"node\"><title>0</title>\r\n",
       "<polygon fill=\"none\" stroke=\"black\" points=\"300,-306 182,-306 182,-223 300,-223 300,-306\"/>\r\n",
       "<text text-anchor=\"middle\" x=\"241\" y=\"-290.8\" font-family=\"Times New Roman,serif\" font-size=\"14.00\">Fare &lt;= 92.2896</text>\r\n",
       "<text text-anchor=\"middle\" x=\"241\" y=\"-275.8\" font-family=\"Times New Roman,serif\" font-size=\"14.00\">gini = 0.477</text>\r\n",
       "<text text-anchor=\"middle\" x=\"241\" y=\"-260.8\" font-family=\"Times New Roman,serif\" font-size=\"14.00\">samples = 476</text>\r\n",
       "<text text-anchor=\"middle\" x=\"241\" y=\"-245.8\" font-family=\"Times New Roman,serif\" font-size=\"14.00\">value = [289, 187]</text>\r\n",
       "<text text-anchor=\"middle\" x=\"241\" y=\"-230.8\" font-family=\"Times New Roman,serif\" font-size=\"14.00\">class = No</text>\r\n",
       "</g>\r\n",
       "<!-- 1 -->\r\n",
       "<g id=\"node2\" class=\"node\"><title>1</title>\r\n",
       "<polygon fill=\"none\" stroke=\"black\" points=\"236,-187 118,-187 118,-104 236,-104 236,-187\"/>\r\n",
       "<text text-anchor=\"middle\" x=\"177\" y=\"-171.8\" font-family=\"Times New Roman,serif\" font-size=\"14.00\">Age &lt;= 70.75</text>\r\n",
       "<text text-anchor=\"middle\" x=\"177\" y=\"-156.8\" font-family=\"Times New Roman,serif\" font-size=\"14.00\">gini = 0.4686</text>\r\n",
       "<text text-anchor=\"middle\" x=\"177\" y=\"-141.8\" font-family=\"Times New Roman,serif\" font-size=\"14.00\">samples = 443</text>\r\n",
       "<text text-anchor=\"middle\" x=\"177\" y=\"-126.8\" font-family=\"Times New Roman,serif\" font-size=\"14.00\">value = [277, 166]</text>\r\n",
       "<text text-anchor=\"middle\" x=\"177\" y=\"-111.8\" font-family=\"Times New Roman,serif\" font-size=\"14.00\">class = No</text>\r\n",
       "</g>\r\n",
       "<!-- 0&#45;&gt;1 -->\r\n",
       "<g id=\"edge1\" class=\"edge\"><title>0&#45;&gt;1</title>\r\n",
       "<path fill=\"none\" stroke=\"black\" d=\"M218.796,-222.907C214.03,-214.195 208.944,-204.897 204.019,-195.893\"/>\r\n",
       "<polygon fill=\"black\" stroke=\"black\" points=\"207.035,-194.114 199.165,-187.021 200.894,-197.474 207.035,-194.114\"/>\r\n",
       "<text text-anchor=\"middle\" x=\"192.14\" y=\"-207.313\" font-family=\"Times New Roman,serif\" font-size=\"14.00\">True</text>\r\n",
       "</g>\r\n",
       "<!-- 4 -->\r\n",
       "<g id=\"node5\" class=\"node\"><title>4</title>\r\n",
       "<polygon fill=\"none\" stroke=\"black\" points=\"358,-187 254,-187 254,-104 358,-104 358,-187\"/>\r\n",
       "<text text-anchor=\"middle\" x=\"306\" y=\"-171.8\" font-family=\"Times New Roman,serif\" font-size=\"14.00\">Age &lt;= 8.0</text>\r\n",
       "<text text-anchor=\"middle\" x=\"306\" y=\"-156.8\" font-family=\"Times New Roman,serif\" font-size=\"14.00\">gini = 0.4628</text>\r\n",
       "<text text-anchor=\"middle\" x=\"306\" y=\"-141.8\" font-family=\"Times New Roman,serif\" font-size=\"14.00\">samples = 33</text>\r\n",
       "<text text-anchor=\"middle\" x=\"306\" y=\"-126.8\" font-family=\"Times New Roman,serif\" font-size=\"14.00\">value = [12, 21]</text>\r\n",
       "<text text-anchor=\"middle\" x=\"306\" y=\"-111.8\" font-family=\"Times New Roman,serif\" font-size=\"14.00\">class = Yes</text>\r\n",
       "</g>\r\n",
       "<!-- 0&#45;&gt;4 -->\r\n",
       "<g id=\"edge4\" class=\"edge\"><title>0&#45;&gt;4</title>\r\n",
       "<path fill=\"none\" stroke=\"black\" d=\"M263.551,-222.907C268.391,-214.195 273.557,-204.897 278.559,-195.893\"/>\r\n",
       "<polygon fill=\"black\" stroke=\"black\" points=\"281.692,-197.462 283.488,-187.021 275.572,-194.063 281.692,-197.462\"/>\r\n",
       "<text text-anchor=\"middle\" x=\"290.356\" y=\"-207.359\" font-family=\"Times New Roman,serif\" font-size=\"14.00\">False</text>\r\n",
       "</g>\r\n",
       "<!-- 2 -->\r\n",
       "<g id=\"node3\" class=\"node\"><title>2</title>\r\n",
       "<polygon fill=\"none\" stroke=\"black\" points=\"118,-68 0,-68 0,-0 118,-0 118,-68\"/>\r\n",
       "<text text-anchor=\"middle\" x=\"59\" y=\"-52.8\" font-family=\"Times New Roman,serif\" font-size=\"14.00\">gini = 0.4672</text>\r\n",
       "<text text-anchor=\"middle\" x=\"59\" y=\"-37.8\" font-family=\"Times New Roman,serif\" font-size=\"14.00\">samples = 441</text>\r\n",
       "<text text-anchor=\"middle\" x=\"59\" y=\"-22.8\" font-family=\"Times New Roman,serif\" font-size=\"14.00\">value = [277, 164]</text>\r\n",
       "<text text-anchor=\"middle\" x=\"59\" y=\"-7.8\" font-family=\"Times New Roman,serif\" font-size=\"14.00\">class = No</text>\r\n",
       "</g>\r\n",
       "<!-- 1&#45;&gt;2 -->\r\n",
       "<g id=\"edge2\" class=\"edge\"><title>1&#45;&gt;2</title>\r\n",
       "<path fill=\"none\" stroke=\"black\" d=\"M133.061,-103.726C123.036,-94.423 112.389,-84.5428 102.386,-75.2612\"/>\r\n",
       "<polygon fill=\"black\" stroke=\"black\" points=\"104.595,-72.5362 94.8845,-68.2996 99.8339,-77.6673 104.595,-72.5362\"/>\r\n",
       "</g>\r\n",
       "<!-- 3 -->\r\n",
       "<g id=\"node4\" class=\"node\"><title>3</title>\r\n",
       "<polygon fill=\"none\" stroke=\"black\" points=\"227.5,-68 136.5,-68 136.5,-0 227.5,-0 227.5,-68\"/>\r\n",
       "<text text-anchor=\"middle\" x=\"182\" y=\"-52.8\" font-family=\"Times New Roman,serif\" font-size=\"14.00\">gini = 0.0</text>\r\n",
       "<text text-anchor=\"middle\" x=\"182\" y=\"-37.8\" font-family=\"Times New Roman,serif\" font-size=\"14.00\">samples = 2</text>\r\n",
       "<text text-anchor=\"middle\" x=\"182\" y=\"-22.8\" font-family=\"Times New Roman,serif\" font-size=\"14.00\">value = [0, 2]</text>\r\n",
       "<text text-anchor=\"middle\" x=\"182\" y=\"-7.8\" font-family=\"Times New Roman,serif\" font-size=\"14.00\">class = Yes</text>\r\n",
       "</g>\r\n",
       "<!-- 1&#45;&gt;3 -->\r\n",
       "<g id=\"edge3\" class=\"edge\"><title>1&#45;&gt;3</title>\r\n",
       "<path fill=\"none\" stroke=\"black\" d=\"M178.862,-103.726C179.237,-95.5175 179.632,-86.8595 180.011,-78.56\"/>\r\n",
       "<polygon fill=\"black\" stroke=\"black\" points=\"183.52,-78.4489 180.479,-68.2996 176.527,-78.1295 183.52,-78.4489\"/>\r\n",
       "</g>\r\n",
       "<!-- 5 -->\r\n",
       "<g id=\"node6\" class=\"node\"><title>5</title>\r\n",
       "<polygon fill=\"none\" stroke=\"black\" points=\"346.5,-68 255.5,-68 255.5,-0 346.5,-0 346.5,-68\"/>\r\n",
       "<text text-anchor=\"middle\" x=\"301\" y=\"-52.8\" font-family=\"Times New Roman,serif\" font-size=\"14.00\">gini = 0.0</text>\r\n",
       "<text text-anchor=\"middle\" x=\"301\" y=\"-37.8\" font-family=\"Times New Roman,serif\" font-size=\"14.00\">samples = 2</text>\r\n",
       "<text text-anchor=\"middle\" x=\"301\" y=\"-22.8\" font-family=\"Times New Roman,serif\" font-size=\"14.00\">value = [2, 0]</text>\r\n",
       "<text text-anchor=\"middle\" x=\"301\" y=\"-7.8\" font-family=\"Times New Roman,serif\" font-size=\"14.00\">class = No</text>\r\n",
       "</g>\r\n",
       "<!-- 4&#45;&gt;5 -->\r\n",
       "<g id=\"edge5\" class=\"edge\"><title>4&#45;&gt;5</title>\r\n",
       "<path fill=\"none\" stroke=\"black\" d=\"M304.138,-103.726C303.763,-95.5175 303.368,-86.8595 302.989,-78.56\"/>\r\n",
       "<polygon fill=\"black\" stroke=\"black\" points=\"306.473,-78.1295 302.521,-68.2996 299.48,-78.4489 306.473,-78.1295\"/>\r\n",
       "</g>\r\n",
       "<!-- 6 -->\r\n",
       "<g id=\"node7\" class=\"node\"><title>6</title>\r\n",
       "<polygon fill=\"none\" stroke=\"black\" points=\"469,-68 365,-68 365,-0 469,-0 469,-68\"/>\r\n",
       "<text text-anchor=\"middle\" x=\"417\" y=\"-52.8\" font-family=\"Times New Roman,serif\" font-size=\"14.00\">gini = 0.437</text>\r\n",
       "<text text-anchor=\"middle\" x=\"417\" y=\"-37.8\" font-family=\"Times New Roman,serif\" font-size=\"14.00\">samples = 31</text>\r\n",
       "<text text-anchor=\"middle\" x=\"417\" y=\"-22.8\" font-family=\"Times New Roman,serif\" font-size=\"14.00\">value = [10, 21]</text>\r\n",
       "<text text-anchor=\"middle\" x=\"417\" y=\"-7.8\" font-family=\"Times New Roman,serif\" font-size=\"14.00\">class = Yes</text>\r\n",
       "</g>\r\n",
       "<!-- 4&#45;&gt;6 -->\r\n",
       "<g id=\"edge6\" class=\"edge\"><title>4&#45;&gt;6</title>\r\n",
       "<path fill=\"none\" stroke=\"black\" d=\"M347.332,-103.726C356.671,-94.5142 366.582,-84.7364 375.91,-75.5343\"/>\r\n",
       "<polygon fill=\"black\" stroke=\"black\" points=\"378.583,-77.8141 383.244,-68.2996 373.667,-72.8308 378.583,-77.8141\"/>\r\n",
       "</g>\r\n",
       "</g>\r\n",
       "</svg>\r\n"
      ],
      "text/plain": [
       "<graphviz.files.Source at 0x1ee3811fa58>"
      ]
     },
     "execution_count": 115,
     "metadata": {},
     "output_type": "execute_result"
    }
   ],
   "source": [
    "from sklearn.tree import DecisionTreeClassifier\n",
    "import graphviz \n",
    "clf = DecisionTreeClassifier(max_depth = 2)\n",
    "clf.fit(x_train,y_train)\n",
    "print('accuracy_of_training_set:',clf.score(x_train, y_train))\n",
    "print('accuracy_of_test_set:',clf.score(x_test, y_test))\n",
    "dot_data = tree.export_graphviz(clf, out_file=None,feature_names = ['Pclass','Sex','Age','SibSp','Parch','Fare','Embarked'],class_names = ['No','Yes']) \n",
    "graph = graphviz.Source(dot_data) \n",
    "graph.render(\"depth=2\")\n",
    "graph"
   ]
  },
  {
   "cell_type": "markdown",
   "metadata": {},
   "source": [
    "depth = 3"
   ]
  },
  {
   "cell_type": "code",
   "execution_count": 116,
   "metadata": {
    "collapsed": false
   },
   "outputs": [
    {
     "name": "stdout",
     "output_type": "stream",
     "text": [
      "accuracy_of_training_set: 0.636554621849\n",
      "accuracy_of_test_set: 0.607594936709\n"
     ]
    },
    {
     "data": {
      "image/svg+xml": [
       "<?xml version=\"1.0\" encoding=\"UTF-8\" standalone=\"no\"?>\r\n",
       "<!DOCTYPE svg PUBLIC \"-//W3C//DTD SVG 1.1//EN\"\r\n",
       " \"http://www.w3.org/Graphics/SVG/1.1/DTD/svg11.dtd\">\r\n",
       "<!-- Generated by graphviz version 2.38.0 (20140413.2041)\r\n",
       " -->\r\n",
       "<!-- Title: Tree Pages: 1 -->\r\n",
       "<svg width=\"523pt\" height=\"433pt\"\r\n",
       " viewBox=\"0.00 0.00 522.50 433.00\" xmlns=\"http://www.w3.org/2000/svg\" xmlns:xlink=\"http://www.w3.org/1999/xlink\">\r\n",
       "<g id=\"graph0\" class=\"graph\" transform=\"scale(1 1) rotate(0) translate(4 429)\">\r\n",
       "<title>Tree</title>\r\n",
       "<polygon fill=\"white\" stroke=\"none\" points=\"-4,4 -4,-429 518.5,-429 518.5,4 -4,4\"/>\r\n",
       "<!-- 0 -->\r\n",
       "<g id=\"node1\" class=\"node\"><title>0</title>\r\n",
       "<polygon fill=\"none\" stroke=\"black\" points=\"298,-425 180,-425 180,-342 298,-342 298,-425\"/>\r\n",
       "<text text-anchor=\"middle\" x=\"239\" y=\"-409.8\" font-family=\"Times New Roman,serif\" font-size=\"14.00\">Fare &lt;= 92.2896</text>\r\n",
       "<text text-anchor=\"middle\" x=\"239\" y=\"-394.8\" font-family=\"Times New Roman,serif\" font-size=\"14.00\">gini = 0.477</text>\r\n",
       "<text text-anchor=\"middle\" x=\"239\" y=\"-379.8\" font-family=\"Times New Roman,serif\" font-size=\"14.00\">samples = 476</text>\r\n",
       "<text text-anchor=\"middle\" x=\"239\" y=\"-364.8\" font-family=\"Times New Roman,serif\" font-size=\"14.00\">value = [289, 187]</text>\r\n",
       "<text text-anchor=\"middle\" x=\"239\" y=\"-349.8\" font-family=\"Times New Roman,serif\" font-size=\"14.00\">class = No</text>\r\n",
       "</g>\r\n",
       "<!-- 1 -->\r\n",
       "<g id=\"node2\" class=\"node\"><title>1</title>\r\n",
       "<polygon fill=\"none\" stroke=\"black\" points=\"234,-306 116,-306 116,-223 234,-223 234,-306\"/>\r\n",
       "<text text-anchor=\"middle\" x=\"175\" y=\"-290.8\" font-family=\"Times New Roman,serif\" font-size=\"14.00\">Age &lt;= 70.75</text>\r\n",
       "<text text-anchor=\"middle\" x=\"175\" y=\"-275.8\" font-family=\"Times New Roman,serif\" font-size=\"14.00\">gini = 0.4686</text>\r\n",
       "<text text-anchor=\"middle\" x=\"175\" y=\"-260.8\" font-family=\"Times New Roman,serif\" font-size=\"14.00\">samples = 443</text>\r\n",
       "<text text-anchor=\"middle\" x=\"175\" y=\"-245.8\" font-family=\"Times New Roman,serif\" font-size=\"14.00\">value = [277, 166]</text>\r\n",
       "<text text-anchor=\"middle\" x=\"175\" y=\"-230.8\" font-family=\"Times New Roman,serif\" font-size=\"14.00\">class = No</text>\r\n",
       "</g>\r\n",
       "<!-- 0&#45;&gt;1 -->\r\n",
       "<g id=\"edge1\" class=\"edge\"><title>0&#45;&gt;1</title>\r\n",
       "<path fill=\"none\" stroke=\"black\" d=\"M216.796,-341.907C212.03,-333.195 206.944,-323.897 202.019,-314.893\"/>\r\n",
       "<polygon fill=\"black\" stroke=\"black\" points=\"205.035,-313.114 197.165,-306.021 198.894,-316.474 205.035,-313.114\"/>\r\n",
       "<text text-anchor=\"middle\" x=\"190.14\" y=\"-326.313\" font-family=\"Times New Roman,serif\" font-size=\"14.00\">True</text>\r\n",
       "</g>\r\n",
       "<!-- 6 -->\r\n",
       "<g id=\"node7\" class=\"node\"><title>6</title>\r\n",
       "<polygon fill=\"none\" stroke=\"black\" points=\"356,-306 252,-306 252,-223 356,-223 356,-306\"/>\r\n",
       "<text text-anchor=\"middle\" x=\"304\" y=\"-290.8\" font-family=\"Times New Roman,serif\" font-size=\"14.00\">Age &lt;= 8.0</text>\r\n",
       "<text text-anchor=\"middle\" x=\"304\" y=\"-275.8\" font-family=\"Times New Roman,serif\" font-size=\"14.00\">gini = 0.4628</text>\r\n",
       "<text text-anchor=\"middle\" x=\"304\" y=\"-260.8\" font-family=\"Times New Roman,serif\" font-size=\"14.00\">samples = 33</text>\r\n",
       "<text text-anchor=\"middle\" x=\"304\" y=\"-245.8\" font-family=\"Times New Roman,serif\" font-size=\"14.00\">value = [12, 21]</text>\r\n",
       "<text text-anchor=\"middle\" x=\"304\" y=\"-230.8\" font-family=\"Times New Roman,serif\" font-size=\"14.00\">class = Yes</text>\r\n",
       "</g>\r\n",
       "<!-- 0&#45;&gt;6 -->\r\n",
       "<g id=\"edge6\" class=\"edge\"><title>0&#45;&gt;6</title>\r\n",
       "<path fill=\"none\" stroke=\"black\" d=\"M261.551,-341.907C266.391,-333.195 271.557,-323.897 276.559,-314.893\"/>\r\n",
       "<polygon fill=\"black\" stroke=\"black\" points=\"279.692,-316.462 281.488,-306.021 273.572,-313.063 279.692,-316.462\"/>\r\n",
       "<text text-anchor=\"middle\" x=\"288.356\" y=\"-326.359\" font-family=\"Times New Roman,serif\" font-size=\"14.00\">False</text>\r\n",
       "</g>\r\n",
       "<!-- 2 -->\r\n",
       "<g id=\"node3\" class=\"node\"><title>2</title>\r\n",
       "<polygon fill=\"none\" stroke=\"black\" points=\"120,-187 2,-187 2,-104 120,-104 120,-187\"/>\r\n",
       "<text text-anchor=\"middle\" x=\"61\" y=\"-171.8\" font-family=\"Times New Roman,serif\" font-size=\"14.00\">Age &lt;= 52.5</text>\r\n",
       "<text text-anchor=\"middle\" x=\"61\" y=\"-156.8\" font-family=\"Times New Roman,serif\" font-size=\"14.00\">gini = 0.4672</text>\r\n",
       "<text text-anchor=\"middle\" x=\"61\" y=\"-141.8\" font-family=\"Times New Roman,serif\" font-size=\"14.00\">samples = 441</text>\r\n",
       "<text text-anchor=\"middle\" x=\"61\" y=\"-126.8\" font-family=\"Times New Roman,serif\" font-size=\"14.00\">value = [277, 164]</text>\r\n",
       "<text text-anchor=\"middle\" x=\"61\" y=\"-111.8\" font-family=\"Times New Roman,serif\" font-size=\"14.00\">class = No</text>\r\n",
       "</g>\r\n",
       "<!-- 1&#45;&gt;2 -->\r\n",
       "<g id=\"edge2\" class=\"edge\"><title>1&#45;&gt;2</title>\r\n",
       "<path fill=\"none\" stroke=\"black\" d=\"M135.448,-222.907C126.429,-213.651 116.765,-203.732 107.486,-194.209\"/>\r\n",
       "<polygon fill=\"black\" stroke=\"black\" points=\"109.967,-191.741 100.482,-187.021 104.954,-196.626 109.967,-191.741\"/>\r\n",
       "</g>\r\n",
       "<!-- 5 -->\r\n",
       "<g id=\"node6\" class=\"node\"><title>5</title>\r\n",
       "<polygon fill=\"none\" stroke=\"black\" points=\"229.5,-179.5 138.5,-179.5 138.5,-111.5 229.5,-111.5 229.5,-179.5\"/>\r\n",
       "<text text-anchor=\"middle\" x=\"184\" y=\"-164.3\" font-family=\"Times New Roman,serif\" font-size=\"14.00\">gini = 0.0</text>\r\n",
       "<text text-anchor=\"middle\" x=\"184\" y=\"-149.3\" font-family=\"Times New Roman,serif\" font-size=\"14.00\">samples = 2</text>\r\n",
       "<text text-anchor=\"middle\" x=\"184\" y=\"-134.3\" font-family=\"Times New Roman,serif\" font-size=\"14.00\">value = [0, 2]</text>\r\n",
       "<text text-anchor=\"middle\" x=\"184\" y=\"-119.3\" font-family=\"Times New Roman,serif\" font-size=\"14.00\">class = Yes</text>\r\n",
       "</g>\r\n",
       "<!-- 1&#45;&gt;5 -->\r\n",
       "<g id=\"edge5\" class=\"edge\"><title>1&#45;&gt;5</title>\r\n",
       "<path fill=\"none\" stroke=\"black\" d=\"M178.123,-222.907C178.946,-212.204 179.837,-200.615 180.671,-189.776\"/>\r\n",
       "<polygon fill=\"black\" stroke=\"black\" points=\"184.171,-189.906 181.449,-179.667 177.192,-189.369 184.171,-189.906\"/>\r\n",
       "</g>\r\n",
       "<!-- 3 -->\r\n",
       "<g id=\"node4\" class=\"node\"><title>3</title>\r\n",
       "<polygon fill=\"none\" stroke=\"black\" points=\"118,-68 0,-68 0,-0 118,-0 118,-68\"/>\r\n",
       "<text text-anchor=\"middle\" x=\"59\" y=\"-52.8\" font-family=\"Times New Roman,serif\" font-size=\"14.00\">gini = 0.473</text>\r\n",
       "<text text-anchor=\"middle\" x=\"59\" y=\"-37.8\" font-family=\"Times New Roman,serif\" font-size=\"14.00\">samples = 409</text>\r\n",
       "<text text-anchor=\"middle\" x=\"59\" y=\"-22.8\" font-family=\"Times New Roman,serif\" font-size=\"14.00\">value = [252, 157]</text>\r\n",
       "<text text-anchor=\"middle\" x=\"59\" y=\"-7.8\" font-family=\"Times New Roman,serif\" font-size=\"14.00\">class = No</text>\r\n",
       "</g>\r\n",
       "<!-- 2&#45;&gt;3 -->\r\n",
       "<g id=\"edge3\" class=\"edge\"><title>2&#45;&gt;3</title>\r\n",
       "<path fill=\"none\" stroke=\"black\" d=\"M60.2553,-103.726C60.1053,-95.5175 59.9472,-86.8595 59.7956,-78.56\"/>\r\n",
       "<polygon fill=\"black\" stroke=\"black\" points=\"63.2903,-78.234 59.6082,-68.2996 56.2915,-78.3619 63.2903,-78.234\"/>\r\n",
       "</g>\r\n",
       "<!-- 4 -->\r\n",
       "<g id=\"node5\" class=\"node\"><title>4</title>\r\n",
       "<polygon fill=\"none\" stroke=\"black\" points=\"234,-68 136,-68 136,-0 234,-0 234,-68\"/>\r\n",
       "<text text-anchor=\"middle\" x=\"185\" y=\"-52.8\" font-family=\"Times New Roman,serif\" font-size=\"14.00\">gini = 0.3418</text>\r\n",
       "<text text-anchor=\"middle\" x=\"185\" y=\"-37.8\" font-family=\"Times New Roman,serif\" font-size=\"14.00\">samples = 32</text>\r\n",
       "<text text-anchor=\"middle\" x=\"185\" y=\"-22.8\" font-family=\"Times New Roman,serif\" font-size=\"14.00\">value = [25, 7]</text>\r\n",
       "<text text-anchor=\"middle\" x=\"185\" y=\"-7.8\" font-family=\"Times New Roman,serif\" font-size=\"14.00\">class = No</text>\r\n",
       "</g>\r\n",
       "<!-- 2&#45;&gt;4 -->\r\n",
       "<g id=\"edge4\" class=\"edge\"><title>2&#45;&gt;4</title>\r\n",
       "<path fill=\"none\" stroke=\"black\" d=\"M107.173,-103.726C117.811,-94.3318 129.116,-84.349 139.716,-74.9883\"/>\r\n",
       "<polygon fill=\"black\" stroke=\"black\" points=\"142.112,-77.5424 147.291,-68.2996 137.478,-72.2953 142.112,-77.5424\"/>\r\n",
       "</g>\r\n",
       "<!-- 7 -->\r\n",
       "<g id=\"node8\" class=\"node\"><title>7</title>\r\n",
       "<polygon fill=\"none\" stroke=\"black\" points=\"341.5,-179.5 250.5,-179.5 250.5,-111.5 341.5,-111.5 341.5,-179.5\"/>\r\n",
       "<text text-anchor=\"middle\" x=\"296\" y=\"-164.3\" font-family=\"Times New Roman,serif\" font-size=\"14.00\">gini = 0.0</text>\r\n",
       "<text text-anchor=\"middle\" x=\"296\" y=\"-149.3\" font-family=\"Times New Roman,serif\" font-size=\"14.00\">samples = 2</text>\r\n",
       "<text text-anchor=\"middle\" x=\"296\" y=\"-134.3\" font-family=\"Times New Roman,serif\" font-size=\"14.00\">value = [2, 0]</text>\r\n",
       "<text text-anchor=\"middle\" x=\"296\" y=\"-119.3\" font-family=\"Times New Roman,serif\" font-size=\"14.00\">class = No</text>\r\n",
       "</g>\r\n",
       "<!-- 6&#45;&gt;7 -->\r\n",
       "<g id=\"edge7\" class=\"edge\"><title>6&#45;&gt;7</title>\r\n",
       "<path fill=\"none\" stroke=\"black\" d=\"M301.224,-222.907C300.493,-212.204 299.7,-200.615 298.959,-189.776\"/>\r\n",
       "<polygon fill=\"black\" stroke=\"black\" points=\"302.442,-189.405 298.268,-179.667 295.458,-189.882 302.442,-189.405\"/>\r\n",
       "</g>\r\n",
       "<!-- 8 -->\r\n",
       "<g id=\"node9\" class=\"node\"><title>8</title>\r\n",
       "<polygon fill=\"none\" stroke=\"black\" points=\"464,-187 360,-187 360,-104 464,-104 464,-187\"/>\r\n",
       "<text text-anchor=\"middle\" x=\"412\" y=\"-171.8\" font-family=\"Times New Roman,serif\" font-size=\"14.00\">Parch &lt;= 3.0</text>\r\n",
       "<text text-anchor=\"middle\" x=\"412\" y=\"-156.8\" font-family=\"Times New Roman,serif\" font-size=\"14.00\">gini = 0.437</text>\r\n",
       "<text text-anchor=\"middle\" x=\"412\" y=\"-141.8\" font-family=\"Times New Roman,serif\" font-size=\"14.00\">samples = 31</text>\r\n",
       "<text text-anchor=\"middle\" x=\"412\" y=\"-126.8\" font-family=\"Times New Roman,serif\" font-size=\"14.00\">value = [10, 21]</text>\r\n",
       "<text text-anchor=\"middle\" x=\"412\" y=\"-111.8\" font-family=\"Times New Roman,serif\" font-size=\"14.00\">class = Yes</text>\r\n",
       "</g>\r\n",
       "<!-- 6&#45;&gt;8 -->\r\n",
       "<g id=\"edge8\" class=\"edge\"><title>6&#45;&gt;8</title>\r\n",
       "<path fill=\"none\" stroke=\"black\" d=\"M341.47,-222.907C349.931,-213.742 358.991,-203.927 367.702,-194.489\"/>\r\n",
       "<polygon fill=\"black\" stroke=\"black\" points=\"370.385,-196.743 374.596,-187.021 365.242,-191.995 370.385,-196.743\"/>\r\n",
       "</g>\r\n",
       "<!-- 9 -->\r\n",
       "<g id=\"node10\" class=\"node\"><title>9</title>\r\n",
       "<polygon fill=\"none\" stroke=\"black\" points=\"405,-68 307,-68 307,-0 405,-0 405,-68\"/>\r\n",
       "<text text-anchor=\"middle\" x=\"356\" y=\"-52.8\" font-family=\"Times New Roman,serif\" font-size=\"14.00\">gini = 0.42</text>\r\n",
       "<text text-anchor=\"middle\" x=\"356\" y=\"-37.8\" font-family=\"Times New Roman,serif\" font-size=\"14.00\">samples = 30</text>\r\n",
       "<text text-anchor=\"middle\" x=\"356\" y=\"-22.8\" font-family=\"Times New Roman,serif\" font-size=\"14.00\">value = [9, 21]</text>\r\n",
       "<text text-anchor=\"middle\" x=\"356\" y=\"-7.8\" font-family=\"Times New Roman,serif\" font-size=\"14.00\">class = Yes</text>\r\n",
       "</g>\r\n",
       "<!-- 8&#45;&gt;9 -->\r\n",
       "<g id=\"edge9\" class=\"edge\"><title>8&#45;&gt;9</title>\r\n",
       "<path fill=\"none\" stroke=\"black\" d=\"M391.148,-103.726C386.763,-95.1527 382.128,-86.0891 377.712,-77.4555\"/>\r\n",
       "<polygon fill=\"black\" stroke=\"black\" points=\"380.699,-75.6092 373.03,-68.2996 374.467,-78.7965 380.699,-75.6092\"/>\r\n",
       "</g>\r\n",
       "<!-- 10 -->\r\n",
       "<g id=\"node11\" class=\"node\"><title>10</title>\r\n",
       "<polygon fill=\"none\" stroke=\"black\" points=\"514.5,-68 423.5,-68 423.5,-0 514.5,-0 514.5,-68\"/>\r\n",
       "<text text-anchor=\"middle\" x=\"469\" y=\"-52.8\" font-family=\"Times New Roman,serif\" font-size=\"14.00\">gini = 0.0</text>\r\n",
       "<text text-anchor=\"middle\" x=\"469\" y=\"-37.8\" font-family=\"Times New Roman,serif\" font-size=\"14.00\">samples = 1</text>\r\n",
       "<text text-anchor=\"middle\" x=\"469\" y=\"-22.8\" font-family=\"Times New Roman,serif\" font-size=\"14.00\">value = [1, 0]</text>\r\n",
       "<text text-anchor=\"middle\" x=\"469\" y=\"-7.8\" font-family=\"Times New Roman,serif\" font-size=\"14.00\">class = No</text>\r\n",
       "</g>\r\n",
       "<!-- 8&#45;&gt;10 -->\r\n",
       "<g id=\"edge10\" class=\"edge\"><title>8&#45;&gt;10</title>\r\n",
       "<path fill=\"none\" stroke=\"black\" d=\"M433.225,-103.726C437.735,-95.0615 442.506,-85.8962 447.043,-77.1802\"/>\r\n",
       "<polygon fill=\"black\" stroke=\"black\" points=\"450.153,-78.7859 451.666,-68.2996 443.944,-75.5537 450.153,-78.7859\"/>\r\n",
       "</g>\r\n",
       "</g>\r\n",
       "</svg>\r\n"
      ],
      "text/plain": [
       "<graphviz.files.Source at 0x1ee370bd518>"
      ]
     },
     "execution_count": 116,
     "metadata": {},
     "output_type": "execute_result"
    }
   ],
   "source": [
    "from sklearn.tree import DecisionTreeClassifier\n",
    "import graphviz \n",
    "clf = DecisionTreeClassifier(max_depth = 3)\n",
    "clf.fit(x_train,y_train)\n",
    "print('accuracy_of_training_set:',clf.score(x_train, y_train))\n",
    "print('accuracy_of_test_set:',clf.score(x_test, y_test))\n",
    "dot_data = tree.export_graphviz(clf, out_file=None,feature_names = ['Pclass','Sex','Age','SibSp','Parch','Fare','Embarked'],class_names = ['No','Yes']) \n",
    "graph = graphviz.Source(dot_data) \n",
    "graph.render(\"depth=3\")\n",
    "graph"
   ]
  },
  {
   "cell_type": "markdown",
   "metadata": {},
   "source": [
    "depth = 4"
   ]
  },
  {
   "cell_type": "code",
   "execution_count": 118,
   "metadata": {
    "collapsed": false
   },
   "outputs": [
    {
     "name": "stdout",
     "output_type": "stream",
     "text": [
      "accuracy_of_training_set: 0.636554621849\n",
      "accuracy_of_test_set: 0.607594936709\n"
     ]
    }
   ],
   "source": [
    "from sklearn.tree import DecisionTreeClassifier\n",
    "import graphviz \n",
    "clf = DecisionTreeClassifier(max_depth = 4)\n",
    "clf.fit(x_train,y_train)\n",
    "print('accuracy_of_training_set:',clf.score(x_train, y_train))\n",
    "print('accuracy_of_test_set:',clf.score(x_test, y_test))"
   ]
  },
  {
   "cell_type": "markdown",
   "metadata": {},
   "source": [
    "depth = 5"
   ]
  },
  {
   "cell_type": "code",
   "execution_count": 119,
   "metadata": {
    "collapsed": false
   },
   "outputs": [
    {
     "name": "stdout",
     "output_type": "stream",
     "text": [
      "accuracy_of_training_set: 0.644957983193\n",
      "accuracy_of_test_set: 0.607594936709\n"
     ]
    }
   ],
   "source": [
    "from sklearn.tree import DecisionTreeClassifier\n",
    "import graphviz \n",
    "clf = DecisionTreeClassifier(max_depth = 5)\n",
    "clf.fit(x_train,y_train)\n",
    "print('accuracy_of_training_set:',clf.score(x_train, y_train))\n",
    "print('accuracy_of_test_set:',clf.score(x_test, y_test))"
   ]
  },
  {
   "cell_type": "markdown",
   "metadata": {},
   "source": [
    "depth  =6"
   ]
  },
  {
   "cell_type": "code",
   "execution_count": 120,
   "metadata": {
    "collapsed": false
   },
   "outputs": [
    {
     "name": "stdout",
     "output_type": "stream",
     "text": [
      "accuracy_of_training_set: 0.655462184874\n",
      "accuracy_of_test_set: 0.616033755274\n"
     ]
    }
   ],
   "source": [
    "from sklearn.tree import DecisionTreeClassifier\n",
    "import graphviz \n",
    "clf = DecisionTreeClassifier(max_depth = 6)\n",
    "clf.fit(x_train,y_train)\n",
    "print('accuracy_of_training_set:',clf.score(x_train, y_train))\n",
    "print('accuracy_of_test_set:',clf.score(x_test, y_test))"
   ]
  },
  {
   "cell_type": "markdown",
   "metadata": {},
   "source": [
    "# Result Discussion"
   ]
  },
  {
   "cell_type": "markdown",
   "metadata": {},
   "source": [
    "## In this experiment, trees will add more features when changing from one depth to another. This shows the different affects of features when using decision tree and it shows that 'fare' has a more important affect.  \n",
    "## However, the score of training set and test set are approximated and do not have a huge improvement with the increasing depth. Maybe, the size of data set still not enough to capture the possibility of 'survival' in Titanic."
   ]
  },
  {
   "cell_type": "code",
   "execution_count": null,
   "metadata": {
    "collapsed": true
   },
   "outputs": [],
   "source": []
  }
 ],
 "metadata": {
  "kernelspec": {
   "display_name": "Python [Root]",
   "language": "python",
   "name": "Python [Root]"
  },
  "language_info": {
   "codemirror_mode": {
    "name": "ipython",
    "version": 3
   },
   "file_extension": ".py",
   "mimetype": "text/x-python",
   "name": "python",
   "nbconvert_exporter": "python",
   "pygments_lexer": "ipython3",
   "version": "3.5.2"
  }
 },
 "nbformat": 4,
 "nbformat_minor": 0
}
